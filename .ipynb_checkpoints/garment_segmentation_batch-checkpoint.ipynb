{
 "cells": [
  {
   "cell_type": "code",
   "execution_count": 84,
   "id": "332c2b24-0cfd-498f-929c-0dd291f0763d",
   "metadata": {},
   "outputs": [
    {
     "name": "stdout",
     "output_type": "stream",
     "text": [
      "Processed and saved: segmented_images/image_1.jpeg\n",
      "Processed and saved: segmented_images/image_10.jpeg\n",
      "Processed and saved: segmented_images/image_2.jpeg\n",
      "Processed and saved: segmented_images/image_3.jpg\n",
      "Processed and saved: segmented_images/image_4.jpg\n",
      "Processed and saved: segmented_images/image_5.jpg\n",
      "Processed and saved: segmented_images/image_6.jpg\n",
      "Processed and saved: segmented_images/image_7.jpg\n",
      "Processed and saved: segmented_images/image_8.jpg\n",
      "Processed and saved: segmented_images/image_9.jpeg\n"
     ]
    }
   ],
   "source": [
    "import os\n",
    "import cv2\n",
    "import numpy as np\n",
    "import matplotlib.pyplot as plt\n",
    "from transformers import pipeline\n",
    "\n",
    "# Define paths\n",
    "input_folder = 'Applied ML Assignment Images/'       # Folder containing the input images\n",
    "output_folder = 'segmented_images/'  # Folder to save the output images\n",
    "\n",
    "# Create output folder if it doesn't exist\n",
    "os.makedirs(output_folder, exist_ok=True)\n",
    "\n",
    "# Initialize the image segmentation pipeline\n",
    "pipe = pipeline(\"image-segmentation\", model=\"google/deeplabv3_mobilenet_v2_1.0_513\")\n",
    "\n",
    "# Function to extract the mask for a specific label (e.g., \"person\")\n",
    "def get_mask_for_label(segmented_data, label):\n",
    "    for segment in segmented_data:\n",
    "        if segment['label'] == label:\n",
    "            return segment['mask']\n",
    "    return None\n",
    "\n",
    "# Function to process and save segmented images\n",
    "def process_and_save_images(input_folder, output_folder):\n",
    "    for image_name in os.listdir(input_folder):\n",
    "        if image_name.lower().endswith(('.png', '.jpg', '.jpeg')):\n",
    "            image_path = os.path.join(input_folder, image_name)\n",
    "            image = cv2.imread(image_path)\n",
    "            \n",
    "            # Perform image segmentation\n",
    "            segmented_data = pipe(image_path)\n",
    "            \n",
    "            # Extract the garment mask\n",
    "            garment_mask = get_mask_for_label(segmented_data, 'person') \n",
    "            \n",
    "            if garment_mask is None:\n",
    "                print(f\"Garment mask not found for {image_name}.\")\n",
    "                continue\n",
    "            \n",
    "            # Convert the mask from a PIL image to a NumPy array\n",
    "            garment_mask = np.array(garment_mask)\n",
    "            \n",
    "            # Create a binary mask where the garment is white and the background is black\n",
    "            binary_mask = (garment_mask > 0).astype(np.uint8) * 255\n",
    "            \n",
    "            # Save the binary mask as an image\n",
    "            output_image_path = os.path.join(output_folder, image_name)\n",
    "            cv2.imwrite(output_image_path, binary_mask)\n",
    "            \n",
    "            print(f\"Processed and saved: {output_image_path}\")\n",
    "\n",
    "# Run the processing function\n",
    "process_and_save_images(input_folder, output_folder)\n"
   ]
  }
 ],
 "metadata": {
  "kernelspec": {
   "display_name": "Python 3 (ipykernel)",
   "language": "python",
   "name": "python3"
  },
  "language_info": {
   "codemirror_mode": {
    "name": "ipython",
    "version": 3
   },
   "file_extension": ".py",
   "mimetype": "text/x-python",
   "name": "python",
   "nbconvert_exporter": "python",
   "pygments_lexer": "ipython3",
   "version": "3.12.5"
  }
 },
 "nbformat": 4,
 "nbformat_minor": 5
}
